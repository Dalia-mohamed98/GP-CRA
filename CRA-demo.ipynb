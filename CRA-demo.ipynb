{
 "cells": [
  {
   "cell_type": "code",
   "execution_count": 2,
   "metadata": {
    "colab": {
     "base_uri": "https://localhost:8080/",
     "height": 1000
    },
    "colab_type": "code",
    "id": "Pxf9O9p0fxSZ",
    "outputId": "101650e6-55b2-47eb-fc77-0c0a2ec38961"
   },
   "outputs": [
    {
     "name": "stdout",
     "output_type": "stream",
     "text": [
      "Obtaining file:///D:/gp/cra_grad/CRA\n",
      "Requirement already satisfied: torch>=1.0.1 in e:\\anaconda\\lib\\site-packages (from parallel-wavegan==0.3.0) (1.3.0)\n",
      "Requirement already satisfied: setuptools>=38.5.1 in e:\\anaconda\\lib\\site-packages (from parallel-wavegan==0.3.0) (45.2.0)\n",
      "Collecting librosa>=0.7.0\n",
      "  Downloading librosa-0.7.2.tar.gz (1.6 MB)\n",
      "Requirement already satisfied: soundfile>=0.10.2 in e:\\anaconda\\lib\\site-packages (from parallel-wavegan==0.3.0) (0.10.2)\n",
      "Requirement already satisfied: tensorboardX>=1.8 in e:\\anaconda\\lib\\site-packages (from parallel-wavegan==0.3.0) (2.0)\n",
      "Requirement already satisfied: matplotlib>=3.1.0 in e:\\anaconda\\lib\\site-packages (from parallel-wavegan==0.3.0) (3.1.2)\n",
      "Requirement already satisfied: PyYAML>=3.12 in e:\\anaconda\\lib\\site-packages (from parallel-wavegan==0.3.0) (5.3)\n",
      "Requirement already satisfied: tqdm>=4.26.1 in e:\\anaconda\\lib\\site-packages (from parallel-wavegan==0.3.0) (4.42.1)\n",
      "Collecting kaldiio>=2.14.1\n",
      "  Downloading kaldiio-2.15.1.tar.gz (21 kB)\n",
      "Requirement already satisfied: h5py>=2.10.0 in e:\\anaconda\\lib\\site-packages (from parallel-wavegan==0.3.0) (2.10.0)\n",
      "Requirement already satisfied: numpy in e:\\anaconda\\lib\\site-packages (from torch>=1.0.1->parallel-wavegan==0.3.0) (1.18.1)\n",
      "Requirement already satisfied: audioread>=2.0.0 in e:\\anaconda\\lib\\site-packages (from librosa>=0.7.0->parallel-wavegan==0.3.0) (2.1.8)\n",
      "Requirement already satisfied: scipy>=1.0.0 in e:\\anaconda\\lib\\site-packages (from librosa>=0.7.0->parallel-wavegan==0.3.0) (1.4.1)\n",
      "Requirement already satisfied: scikit-learn!=0.19.0,>=0.14.0 in e:\\anaconda\\lib\\site-packages (from librosa>=0.7.0->parallel-wavegan==0.3.0) (0.22.1)\n",
      "Requirement already satisfied: joblib>=0.12 in e:\\anaconda\\lib\\site-packages (from librosa>=0.7.0->parallel-wavegan==0.3.0) (0.14.1)\n",
      "Requirement already satisfied: decorator>=3.0.0 in e:\\anaconda\\lib\\site-packages (from librosa>=0.7.0->parallel-wavegan==0.3.0) (4.4.1)\n",
      "Requirement already satisfied: six>=1.3 in e:\\anaconda\\lib\\site-packages (from librosa>=0.7.0->parallel-wavegan==0.3.0) (1.14.0)\n",
      "Requirement already satisfied: resampy>=0.2.2 in e:\\anaconda\\lib\\site-packages (from librosa>=0.7.0->parallel-wavegan==0.3.0) (0.2.2)\n",
      "Requirement already satisfied: numba>=0.43.0 in e:\\anaconda\\lib\\site-packages (from librosa>=0.7.0->parallel-wavegan==0.3.0) (0.48.0)\n",
      "Requirement already satisfied: cffi>=1.0 in e:\\anaconda\\lib\\site-packages (from soundfile>=0.10.2->parallel-wavegan==0.3.0) (1.13.2)\n",
      "Requirement already satisfied: protobuf>=3.8.0 in c:\\users\\dell\\appdata\\roaming\\python\\python37\\site-packages (from tensorboardX>=1.8->parallel-wavegan==0.3.0) (3.10.0)\n",
      "Requirement already satisfied: pyparsing!=2.0.4,!=2.1.2,!=2.1.6,>=2.0.1 in e:\\anaconda\\lib\\site-packages (from matplotlib>=3.1.0->parallel-wavegan==0.3.0) (2.4.6)\n",
      "Requirement already satisfied: cycler>=0.10 in e:\\anaconda\\lib\\site-packages (from matplotlib>=3.1.0->parallel-wavegan==0.3.0) (0.10.0)\n",
      "Requirement already satisfied: python-dateutil>=2.1 in e:\\anaconda\\lib\\site-packages (from matplotlib>=3.1.0->parallel-wavegan==0.3.0) (2.7.5)\n",
      "Requirement already satisfied: kiwisolver>=1.0.1 in e:\\anaconda\\lib\\site-packages (from matplotlib>=3.1.0->parallel-wavegan==0.3.0) (1.1.0)\n",
      "Requirement already satisfied: llvmlite<0.32.0,>=0.31.0dev0 in e:\\anaconda\\lib\\site-packages (from numba>=0.43.0->librosa>=0.7.0->parallel-wavegan==0.3.0) (0.31.0)\n",
      "Requirement already satisfied: pycparser in e:\\anaconda\\lib\\site-packages (from cffi>=1.0->soundfile>=0.10.2->parallel-wavegan==0.3.0) (2.19)\n",
      "Building wheels for collected packages: librosa, kaldiio\n",
      "  Building wheel for librosa (setup.py): started\n",
      "  Building wheel for librosa (setup.py): finished with status 'done'\n",
      "  Created wheel for librosa: filename=librosa-0.7.2-py3-none-any.whl size=1612890 sha256=7a8a671187edd71d5b62631df66c7c6fa6283afe0650724b208506e877dad0f9\n",
      "  Stored in directory: c:\\users\\dell\\appdata\\local\\pip\\cache\\wheels\\18\\9e\\42\\3224f85730f92fa2925f0b4fb6ef7f9c5431a64dfc77b95b39\n",
      "  Building wheel for kaldiio (setup.py): started\n",
      "  Building wheel for kaldiio (setup.py): finished with status 'done'\n",
      "  Created wheel for kaldiio: filename=kaldiio-2.15.1-py3-none-any.whl size=22624 sha256=9bfda59a9fcd72a7705f3acee81df869afd92ee80f3754ab3e0786dbc8eb6410\n",
      "  Stored in directory: c:\\users\\dell\\appdata\\local\\pip\\cache\\wheels\\46\\19\\fc\\7be15b91e6aa73f374c6b3217ea6c8e58724650bcc7638635f\n",
      "Successfully built librosa kaldiio\n",
      "Installing collected packages: librosa, kaldiio, parallel-wavegan\n",
      "  Attempting uninstall: librosa\n",
      "    Found existing installation: librosa 0.6.1\n",
      "    Uninstalling librosa-0.6.1:\n",
      "      Successfully uninstalled librosa-0.6.1\n",
      "  Running setup.py develop for parallel-wavegan\n",
      "Successfully installed kaldiio-2.15.1 librosa-0.7.2 parallel-wavegan\n"
     ]
    }
   ],
   "source": [
    "!pip install -e ."
   ]
  },
  {
   "cell_type": "code",
   "execution_count": 1,
   "metadata": {
    "colab": {
     "base_uri": "https://localhost:8080/",
     "height": 34
    },
    "colab_type": "code",
    "id": "bIDeBw9hf0F-",
    "outputId": "b566d693-6295-4d3d-eb21-5b8284b06841"
   },
   "outputs": [
    {
     "name": "stdout",
     "output_type": "stream",
     "text": [
      "D:\\gp\\cra_grad\\CRA\\egs\\ljspeech\\voc1\n"
     ]
    }
   ],
   "source": [
    "cd egs/ljspeech/voc1"
   ]
  },
  {
   "cell_type": "code",
   "execution_count": 4,
   "metadata": {
    "colab": {
     "base_uri": "https://localhost:8080/",
     "height": 683
    },
    "colab_type": "code",
    "id": "xaGpZNPDgC99",
    "outputId": "c2aec233-0ba3-4f44-e6ef-c680a1c13cb4"
   },
   "outputs": [
    {
     "name": "stderr",
     "output_type": "stream",
     "text": [
      "'sudo' is not recognized as an internal or external command,\n",
      "operable program or batch file.\n"
     ]
    }
   ],
   "source": [
    "!sudo apt-get install jq"
   ]
  },
  {
   "cell_type": "code",
   "execution_count": 0,
   "metadata": {
    "colab": {
     "base_uri": "https://localhost:8080/",
     "height": 34
    },
    "colab_type": "code",
    "id": "Flw8FPBUyf5S",
    "outputId": "6371e7bb-6bd8-4a27-f657-e88bab23015b"
   },
   "outputs": [
    {
     "name": "stdout",
     "output_type": "stream",
     "text": [
      "/content/ParallelWaveGAN/egs/ljspeech/voc1/downloads/downloads\n"
     ]
    }
   ],
   "source": [
    "cd downloads/"
   ]
  },
  {
   "cell_type": "code",
   "execution_count": 0,
   "metadata": {
    "colab": {},
    "colab_type": "code",
    "id": "1jRo83cCl-mh"
   },
   "outputs": [],
   "source": [
    "!tar -xjf \"/content/drive/My Drive/LJSpeech-1.1.tar.bz2\""
   ]
  },
  {
   "cell_type": "code",
   "execution_count": 0,
   "metadata": {
    "colab": {
     "base_uri": "https://localhost:8080/",
     "height": 34
    },
    "colab_type": "code",
    "id": "ie9o8xWH0Az7",
    "outputId": "2834576f-45c6-4d60-ccbc-4183800b20d6"
   },
   "outputs": [
    {
     "name": "stdout",
     "output_type": "stream",
     "text": [
      "/content/ParallelWaveGAN/egs/ljspeech/voc1\n"
     ]
    }
   ],
   "source": [
    "cd ../"
   ]
  },
  {
   "cell_type": "code",
   "execution_count": 5,
   "metadata": {
    "colab": {
     "base_uri": "https://localhost:8080/",
     "height": 442
    },
    "colab_type": "code",
    "id": "A2rfb8g9f8x4",
    "outputId": "7aa77183-b150-4882-d5b5-83f4b6db2921"
   },
   "outputs": [
    {
     "name": "stderr",
     "output_type": "stream",
     "text": [
      "-bash: line 1: run.sh: command not found\n"
     ]
    },
    {
     "ename": "CalledProcessError",
     "evalue": "Command 'b'run.sh --stage 0 --stop_stage 1\\n'' returned non-zero exit status 127.",
     "output_type": "error",
     "traceback": [
      "\u001b[1;31m---------------------------------------------------------------------------\u001b[0m",
      "\u001b[1;31mCalledProcessError\u001b[0m                        Traceback (most recent call last)",
      "\u001b[1;32m<ipython-input-5-e786d982773b>\u001b[0m in \u001b[0;36m<module>\u001b[1;34m\u001b[0m\n\u001b[1;32m----> 1\u001b[1;33m \u001b[0mget_ipython\u001b[0m\u001b[1;33m(\u001b[0m\u001b[1;33m)\u001b[0m\u001b[1;33m.\u001b[0m\u001b[0mrun_cell_magic\u001b[0m\u001b[1;33m(\u001b[0m\u001b[1;34m'bash'\u001b[0m\u001b[1;33m,\u001b[0m \u001b[1;34m''\u001b[0m\u001b[1;33m,\u001b[0m \u001b[1;34m'run.sh --stage 0 --stop_stage 1\\n'\u001b[0m\u001b[1;33m)\u001b[0m\u001b[1;33m\u001b[0m\u001b[1;33m\u001b[0m\u001b[0m\n\u001b[0m",
      "\u001b[1;32mE:\\Anaconda\\lib\\site-packages\\IPython\\core\\interactiveshell.py\u001b[0m in \u001b[0;36mrun_cell_magic\u001b[1;34m(self, magic_name, line, cell)\u001b[0m\n\u001b[0;32m   2350\u001b[0m             \u001b[1;32mwith\u001b[0m \u001b[0mself\u001b[0m\u001b[1;33m.\u001b[0m\u001b[0mbuiltin_trap\u001b[0m\u001b[1;33m:\u001b[0m\u001b[1;33m\u001b[0m\u001b[1;33m\u001b[0m\u001b[0m\n\u001b[0;32m   2351\u001b[0m                 \u001b[0margs\u001b[0m \u001b[1;33m=\u001b[0m \u001b[1;33m(\u001b[0m\u001b[0mmagic_arg_s\u001b[0m\u001b[1;33m,\u001b[0m \u001b[0mcell\u001b[0m\u001b[1;33m)\u001b[0m\u001b[1;33m\u001b[0m\u001b[1;33m\u001b[0m\u001b[0m\n\u001b[1;32m-> 2352\u001b[1;33m                 \u001b[0mresult\u001b[0m \u001b[1;33m=\u001b[0m \u001b[0mfn\u001b[0m\u001b[1;33m(\u001b[0m\u001b[1;33m*\u001b[0m\u001b[0margs\u001b[0m\u001b[1;33m,\u001b[0m \u001b[1;33m**\u001b[0m\u001b[0mkwargs\u001b[0m\u001b[1;33m)\u001b[0m\u001b[1;33m\u001b[0m\u001b[1;33m\u001b[0m\u001b[0m\n\u001b[0m\u001b[0;32m   2353\u001b[0m             \u001b[1;32mreturn\u001b[0m \u001b[0mresult\u001b[0m\u001b[1;33m\u001b[0m\u001b[1;33m\u001b[0m\u001b[0m\n\u001b[0;32m   2354\u001b[0m \u001b[1;33m\u001b[0m\u001b[0m\n",
      "\u001b[1;32mE:\\Anaconda\\lib\\site-packages\\IPython\\core\\magics\\script.py\u001b[0m in \u001b[0;36mnamed_script_magic\u001b[1;34m(line, cell)\u001b[0m\n\u001b[0;32m    140\u001b[0m             \u001b[1;32melse\u001b[0m\u001b[1;33m:\u001b[0m\u001b[1;33m\u001b[0m\u001b[1;33m\u001b[0m\u001b[0m\n\u001b[0;32m    141\u001b[0m                 \u001b[0mline\u001b[0m \u001b[1;33m=\u001b[0m \u001b[0mscript\u001b[0m\u001b[1;33m\u001b[0m\u001b[1;33m\u001b[0m\u001b[0m\n\u001b[1;32m--> 142\u001b[1;33m             \u001b[1;32mreturn\u001b[0m \u001b[0mself\u001b[0m\u001b[1;33m.\u001b[0m\u001b[0mshebang\u001b[0m\u001b[1;33m(\u001b[0m\u001b[0mline\u001b[0m\u001b[1;33m,\u001b[0m \u001b[0mcell\u001b[0m\u001b[1;33m)\u001b[0m\u001b[1;33m\u001b[0m\u001b[1;33m\u001b[0m\u001b[0m\n\u001b[0m\u001b[0;32m    143\u001b[0m \u001b[1;33m\u001b[0m\u001b[0m\n\u001b[0;32m    144\u001b[0m         \u001b[1;31m# write a basic docstring:\u001b[0m\u001b[1;33m\u001b[0m\u001b[1;33m\u001b[0m\u001b[1;33m\u001b[0m\u001b[0m\n",
      "\u001b[1;32m<E:\\Anaconda\\lib\\site-packages\\decorator.py:decorator-gen-111>\u001b[0m in \u001b[0;36mshebang\u001b[1;34m(self, line, cell)\u001b[0m\n",
      "\u001b[1;32mE:\\Anaconda\\lib\\site-packages\\IPython\\core\\magic.py\u001b[0m in \u001b[0;36m<lambda>\u001b[1;34m(f, *a, **k)\u001b[0m\n\u001b[0;32m    185\u001b[0m     \u001b[1;31m# but it's overkill for just that one bit of state.\u001b[0m\u001b[1;33m\u001b[0m\u001b[1;33m\u001b[0m\u001b[1;33m\u001b[0m\u001b[0m\n\u001b[0;32m    186\u001b[0m     \u001b[1;32mdef\u001b[0m \u001b[0mmagic_deco\u001b[0m\u001b[1;33m(\u001b[0m\u001b[0marg\u001b[0m\u001b[1;33m)\u001b[0m\u001b[1;33m:\u001b[0m\u001b[1;33m\u001b[0m\u001b[1;33m\u001b[0m\u001b[0m\n\u001b[1;32m--> 187\u001b[1;33m         \u001b[0mcall\u001b[0m \u001b[1;33m=\u001b[0m \u001b[1;32mlambda\u001b[0m \u001b[0mf\u001b[0m\u001b[1;33m,\u001b[0m \u001b[1;33m*\u001b[0m\u001b[0ma\u001b[0m\u001b[1;33m,\u001b[0m \u001b[1;33m**\u001b[0m\u001b[0mk\u001b[0m\u001b[1;33m:\u001b[0m \u001b[0mf\u001b[0m\u001b[1;33m(\u001b[0m\u001b[1;33m*\u001b[0m\u001b[0ma\u001b[0m\u001b[1;33m,\u001b[0m \u001b[1;33m**\u001b[0m\u001b[0mk\u001b[0m\u001b[1;33m)\u001b[0m\u001b[1;33m\u001b[0m\u001b[1;33m\u001b[0m\u001b[0m\n\u001b[0m\u001b[0;32m    188\u001b[0m \u001b[1;33m\u001b[0m\u001b[0m\n\u001b[0;32m    189\u001b[0m         \u001b[1;32mif\u001b[0m \u001b[0mcallable\u001b[0m\u001b[1;33m(\u001b[0m\u001b[0marg\u001b[0m\u001b[1;33m)\u001b[0m\u001b[1;33m:\u001b[0m\u001b[1;33m\u001b[0m\u001b[1;33m\u001b[0m\u001b[0m\n",
      "\u001b[1;32mE:\\Anaconda\\lib\\site-packages\\IPython\\core\\magics\\script.py\u001b[0m in \u001b[0;36mshebang\u001b[1;34m(self, line, cell)\u001b[0m\n\u001b[0;32m    243\u001b[0m             \u001b[0msys\u001b[0m\u001b[1;33m.\u001b[0m\u001b[0mstderr\u001b[0m\u001b[1;33m.\u001b[0m\u001b[0mflush\u001b[0m\u001b[1;33m(\u001b[0m\u001b[1;33m)\u001b[0m\u001b[1;33m\u001b[0m\u001b[1;33m\u001b[0m\u001b[0m\n\u001b[0;32m    244\u001b[0m         \u001b[1;32mif\u001b[0m \u001b[0margs\u001b[0m\u001b[1;33m.\u001b[0m\u001b[0mraise_error\u001b[0m \u001b[1;32mand\u001b[0m \u001b[0mp\u001b[0m\u001b[1;33m.\u001b[0m\u001b[0mreturncode\u001b[0m\u001b[1;33m!=\u001b[0m\u001b[1;36m0\u001b[0m\u001b[1;33m:\u001b[0m\u001b[1;33m\u001b[0m\u001b[1;33m\u001b[0m\u001b[0m\n\u001b[1;32m--> 245\u001b[1;33m             \u001b[1;32mraise\u001b[0m \u001b[0mCalledProcessError\u001b[0m\u001b[1;33m(\u001b[0m\u001b[0mp\u001b[0m\u001b[1;33m.\u001b[0m\u001b[0mreturncode\u001b[0m\u001b[1;33m,\u001b[0m \u001b[0mcell\u001b[0m\u001b[1;33m,\u001b[0m \u001b[0moutput\u001b[0m\u001b[1;33m=\u001b[0m\u001b[0mout\u001b[0m\u001b[1;33m,\u001b[0m \u001b[0mstderr\u001b[0m\u001b[1;33m=\u001b[0m\u001b[0merr\u001b[0m\u001b[1;33m)\u001b[0m\u001b[1;33m\u001b[0m\u001b[1;33m\u001b[0m\u001b[0m\n\u001b[0m\u001b[0;32m    246\u001b[0m \u001b[1;33m\u001b[0m\u001b[0m\n\u001b[0;32m    247\u001b[0m     \u001b[1;32mdef\u001b[0m \u001b[0m_run_script\u001b[0m\u001b[1;33m(\u001b[0m\u001b[0mself\u001b[0m\u001b[1;33m,\u001b[0m \u001b[0mp\u001b[0m\u001b[1;33m,\u001b[0m \u001b[0mcell\u001b[0m\u001b[1;33m,\u001b[0m \u001b[0mto_close\u001b[0m\u001b[1;33m)\u001b[0m\u001b[1;33m:\u001b[0m\u001b[1;33m\u001b[0m\u001b[1;33m\u001b[0m\u001b[0m\n",
      "\u001b[1;31mCalledProcessError\u001b[0m: Command 'b'run.sh --stage 0 --stop_stage 1\\n'' returned non-zero exit status 127."
     ]
    }
   ],
   "source": [
    "%%bash \n",
    "run.sh --stage 0 --stop_stage 1"
   ]
  },
  {
   "cell_type": "code",
   "execution_count": 0,
   "metadata": {
    "colab": {},
    "colab_type": "code",
    "id": "d2j3jL_E3KqG"
   },
   "outputs": [],
   "source": [
    "mkdir exp"
   ]
  },
  {
   "cell_type": "code",
   "execution_count": 0,
   "metadata": {
    "colab": {
     "base_uri": "https://localhost:8080/",
     "height": 34
    },
    "colab_type": "code",
    "id": "xvzqIb5V3gjy",
    "outputId": "7e9952e5-7ffc-4cef-be9b-e5b512a219aa"
   },
   "outputs": [
    {
     "name": "stdout",
     "output_type": "stream",
     "text": [
      "/content/ParallelWaveGAN/egs/ljspeech/voc1/exp\n"
     ]
    }
   ],
   "source": [
    "cd exp"
   ]
  },
  {
   "cell_type": "code",
   "execution_count": 0,
   "metadata": {
    "colab": {},
    "colab_type": "code",
    "id": "fqxA6x1b3Qj0"
   },
   "outputs": [],
   "source": [
    "mkdir train_nodev_ljspeech_parallel_wavegan.v1"
   ]
  },
  {
   "cell_type": "code",
   "execution_count": 0,
   "metadata": {
    "colab": {
     "base_uri": "https://localhost:8080/",
     "height": 158
    },
    "colab_type": "code",
    "id": "OKoejreVgHAu",
    "outputId": "b0e7d458-92a1-4270-d06f-f27d5a223403"
   },
   "outputs": [
    {
     "name": "stdout",
     "output_type": "stream",
     "text": [
      "Stage 3: Network decoding\n",
      "Decoding start. See the progress via exp/train_nodev_ljspeech_parallel_wavegan.v1/wav/checkpoint-200steps/dev/decode.log.\n",
      "Decoding start. See the progress via exp/train_nodev_ljspeech_parallel_wavegan.v1/wav/checkpoint-200steps/eval/decode.log.\n",
      "Successfully finished decoding of eval set.\n",
      "Successfully finished decoding of dev set.\n",
      "Successfully finished decoding.\n",
      "Finished.\n"
     ]
    }
   ],
   "source": [
    "!./run.sh --stage 3 --stop_stage 3"
   ]
  },
  {
   "cell_type": "code",
   "execution_count": 0,
   "metadata": {
    "colab": {},
    "colab_type": "code",
    "id": "j3-568ULoHbk"
   },
   "outputs": [],
   "source": [
    "!rm -d -r \"/content/ParallelWaveGAN/egs/ljspeech/voc1/LJSpeech-1.1\""
   ]
  },
  {
   "cell_type": "code",
   "execution_count": 0,
   "metadata": {
    "colab": {},
    "colab_type": "code",
    "id": "APermEOAtItC"
   },
   "outputs": [],
   "source": [
    "!rm -d -r \"/content/ParallelWaveGAN/egs/ljspeech/voc1/train_nodev_ljspeech_parallel_wavegan.v1\""
   ]
  },
  {
   "cell_type": "code",
   "execution_count": 0,
   "metadata": {
    "colab": {},
    "colab_type": "code",
    "id": "MDjeXiUo3tRa"
   },
   "outputs": [],
   "source": []
  }
 ],
 "metadata": {
  "accelerator": "GPU",
  "colab": {
   "collapsed_sections": [],
   "name": "parallelWavGAN-demo.ipynb",
   "provenance": [],
   "toc_visible": true
  },
  "kernelspec": {
   "display_name": "Python 3",
   "language": "python",
   "name": "python3"
  },
  "language_info": {
   "codemirror_mode": {
    "name": "ipython",
    "version": 3
   },
   "file_extension": ".py",
   "mimetype": "text/x-python",
   "name": "python",
   "nbconvert_exporter": "python",
   "pygments_lexer": "ipython3",
   "version": "3.7.6"
  }
 },
 "nbformat": 4,
 "nbformat_minor": 1
}
